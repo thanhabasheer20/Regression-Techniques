{
  "nbformat": 4,
  "nbformat_minor": 0,
  "metadata": {
    "colab": {
      "provenance": []
    },
    "kernelspec": {
      "name": "python3",
      "display_name": "Python 3"
    },
    "language_info": {
      "name": "python"
    }
  },
  "cells": [
    {
      "cell_type": "code",
      "execution_count": 1,
      "metadata": {
        "colab": {
          "base_uri": "https://localhost:8080/",
          "height": 458
        },
        "id": "ocDvpycR0LNz",
        "outputId": "2c99a80a-809a-4dce-89f4-e3b85cd124b6"
      },
      "outputs": [
        {
          "output_type": "execute_result",
          "data": {
            "text/plain": [
              "0        4.526\n",
              "1        3.585\n",
              "2        3.521\n",
              "3        3.413\n",
              "4        3.422\n",
              "         ...  \n",
              "20635    0.781\n",
              "20636    0.771\n",
              "20637    0.923\n",
              "20638    0.847\n",
              "20639    0.894\n",
              "Name: Target, Length: 20640, dtype: float64"
            ],
            "text/html": [
              "<div>\n",
              "<style scoped>\n",
              "    .dataframe tbody tr th:only-of-type {\n",
              "        vertical-align: middle;\n",
              "    }\n",
              "\n",
              "    .dataframe tbody tr th {\n",
              "        vertical-align: top;\n",
              "    }\n",
              "\n",
              "    .dataframe thead th {\n",
              "        text-align: right;\n",
              "    }\n",
              "</style>\n",
              "<table border=\"1\" class=\"dataframe\">\n",
              "  <thead>\n",
              "    <tr style=\"text-align: right;\">\n",
              "      <th></th>\n",
              "      <th>Target</th>\n",
              "    </tr>\n",
              "  </thead>\n",
              "  <tbody>\n",
              "    <tr>\n",
              "      <th>0</th>\n",
              "      <td>4.526</td>\n",
              "    </tr>\n",
              "    <tr>\n",
              "      <th>1</th>\n",
              "      <td>3.585</td>\n",
              "    </tr>\n",
              "    <tr>\n",
              "      <th>2</th>\n",
              "      <td>3.521</td>\n",
              "    </tr>\n",
              "    <tr>\n",
              "      <th>3</th>\n",
              "      <td>3.413</td>\n",
              "    </tr>\n",
              "    <tr>\n",
              "      <th>4</th>\n",
              "      <td>3.422</td>\n",
              "    </tr>\n",
              "    <tr>\n",
              "      <th>...</th>\n",
              "      <td>...</td>\n",
              "    </tr>\n",
              "    <tr>\n",
              "      <th>20635</th>\n",
              "      <td>0.781</td>\n",
              "    </tr>\n",
              "    <tr>\n",
              "      <th>20636</th>\n",
              "      <td>0.771</td>\n",
              "    </tr>\n",
              "    <tr>\n",
              "      <th>20637</th>\n",
              "      <td>0.923</td>\n",
              "    </tr>\n",
              "    <tr>\n",
              "      <th>20638</th>\n",
              "      <td>0.847</td>\n",
              "    </tr>\n",
              "    <tr>\n",
              "      <th>20639</th>\n",
              "      <td>0.894</td>\n",
              "    </tr>\n",
              "  </tbody>\n",
              "</table>\n",
              "<p>20640 rows × 1 columns</p>\n",
              "</div><br><label><b>dtype:</b> float64</label>"
            ]
          },
          "metadata": {},
          "execution_count": 1
        }
      ],
      "source": [
        "# Load the California Housing dataset using the fetch_california_housing function from sklearn.\n",
        "# Convert the dataset into a pandas DataFrame for easier handling.\n",
        "\n",
        "from sklearn.datasets import fetch_california_housing\n",
        "import pandas as pd\n",
        "import numpy as np\n",
        "# Load dataset\n",
        "data= fetch_california_housing()\n",
        "\n",
        "# Convert to DataFrame\n",
        "x = pd.DataFrame(data.data, columns=data.feature_names)\n",
        "\n",
        "# Add the target variable (Median House Value)\n",
        "y = pd.Series(data.target,name=\"Target\")\n",
        "y\n"
      ]
    },
    {
      "cell_type": "code",
      "source": [
        "#Handle missing values\n",
        "null_values=x.isnull().sum()\n",
        "null_values"
      ],
      "metadata": {
        "colab": {
          "base_uri": "https://localhost:8080/",
          "height": 335
        },
        "id": "V-EIZv5w1LdR",
        "outputId": "e86fe4ef-68d1-4802-fe04-1afa94d77f37"
      },
      "execution_count": 2,
      "outputs": [
        {
          "output_type": "execute_result",
          "data": {
            "text/plain": [
              "MedInc        0\n",
              "HouseAge      0\n",
              "AveRooms      0\n",
              "AveBedrms     0\n",
              "Population    0\n",
              "AveOccup      0\n",
              "Latitude      0\n",
              "Longitude     0\n",
              "dtype: int64"
            ],
            "text/html": [
              "<div>\n",
              "<style scoped>\n",
              "    .dataframe tbody tr th:only-of-type {\n",
              "        vertical-align: middle;\n",
              "    }\n",
              "\n",
              "    .dataframe tbody tr th {\n",
              "        vertical-align: top;\n",
              "    }\n",
              "\n",
              "    .dataframe thead th {\n",
              "        text-align: right;\n",
              "    }\n",
              "</style>\n",
              "<table border=\"1\" class=\"dataframe\">\n",
              "  <thead>\n",
              "    <tr style=\"text-align: right;\">\n",
              "      <th></th>\n",
              "      <th>0</th>\n",
              "    </tr>\n",
              "  </thead>\n",
              "  <tbody>\n",
              "    <tr>\n",
              "      <th>MedInc</th>\n",
              "      <td>0</td>\n",
              "    </tr>\n",
              "    <tr>\n",
              "      <th>HouseAge</th>\n",
              "      <td>0</td>\n",
              "    </tr>\n",
              "    <tr>\n",
              "      <th>AveRooms</th>\n",
              "      <td>0</td>\n",
              "    </tr>\n",
              "    <tr>\n",
              "      <th>AveBedrms</th>\n",
              "      <td>0</td>\n",
              "    </tr>\n",
              "    <tr>\n",
              "      <th>Population</th>\n",
              "      <td>0</td>\n",
              "    </tr>\n",
              "    <tr>\n",
              "      <th>AveOccup</th>\n",
              "      <td>0</td>\n",
              "    </tr>\n",
              "    <tr>\n",
              "      <th>Latitude</th>\n",
              "      <td>0</td>\n",
              "    </tr>\n",
              "    <tr>\n",
              "      <th>Longitude</th>\n",
              "      <td>0</td>\n",
              "    </tr>\n",
              "  </tbody>\n",
              "</table>\n",
              "</div><br><label><b>dtype:</b> int64</label>"
            ]
          },
          "metadata": {},
          "execution_count": 2
        }
      ]
    },
    {
      "cell_type": "markdown",
      "source": [
        "There is no null values\n"
      ],
      "metadata": {
        "id": "rlnT0isKGL1x"
      }
    },
    {
      "cell_type": "code",
      "source": [
        "#checking skewness for detecting outliers\n",
        "skewness=x.skew()\n",
        "skewness"
      ],
      "metadata": {
        "colab": {
          "base_uri": "https://localhost:8080/",
          "height": 335
        },
        "id": "rQkmRN0OEFrL",
        "outputId": "25dae9a3-917c-441c-8fa8-ee60c4b15ed0"
      },
      "execution_count": 3,
      "outputs": [
        {
          "output_type": "execute_result",
          "data": {
            "text/plain": [
              "MedInc         1.646657\n",
              "HouseAge       0.060331\n",
              "AveRooms      20.697869\n",
              "AveBedrms     31.316956\n",
              "Population     4.935858\n",
              "AveOccup      97.639561\n",
              "Latitude       0.465953\n",
              "Longitude     -0.297801\n",
              "dtype: float64"
            ],
            "text/html": [
              "<div>\n",
              "<style scoped>\n",
              "    .dataframe tbody tr th:only-of-type {\n",
              "        vertical-align: middle;\n",
              "    }\n",
              "\n",
              "    .dataframe tbody tr th {\n",
              "        vertical-align: top;\n",
              "    }\n",
              "\n",
              "    .dataframe thead th {\n",
              "        text-align: right;\n",
              "    }\n",
              "</style>\n",
              "<table border=\"1\" class=\"dataframe\">\n",
              "  <thead>\n",
              "    <tr style=\"text-align: right;\">\n",
              "      <th></th>\n",
              "      <th>0</th>\n",
              "    </tr>\n",
              "  </thead>\n",
              "  <tbody>\n",
              "    <tr>\n",
              "      <th>MedInc</th>\n",
              "      <td>1.646657</td>\n",
              "    </tr>\n",
              "    <tr>\n",
              "      <th>HouseAge</th>\n",
              "      <td>0.060331</td>\n",
              "    </tr>\n",
              "    <tr>\n",
              "      <th>AveRooms</th>\n",
              "      <td>20.697869</td>\n",
              "    </tr>\n",
              "    <tr>\n",
              "      <th>AveBedrms</th>\n",
              "      <td>31.316956</td>\n",
              "    </tr>\n",
              "    <tr>\n",
              "      <th>Population</th>\n",
              "      <td>4.935858</td>\n",
              "    </tr>\n",
              "    <tr>\n",
              "      <th>AveOccup</th>\n",
              "      <td>97.639561</td>\n",
              "    </tr>\n",
              "    <tr>\n",
              "      <th>Latitude</th>\n",
              "      <td>0.465953</td>\n",
              "    </tr>\n",
              "    <tr>\n",
              "      <th>Longitude</th>\n",
              "      <td>-0.297801</td>\n",
              "    </tr>\n",
              "  </tbody>\n",
              "</table>\n",
              "</div><br><label><b>dtype:</b> float64</label>"
            ]
          },
          "metadata": {},
          "execution_count": 3
        }
      ]
    },
    {
      "cell_type": "code",
      "source": [],
      "metadata": {
        "id": "aVFoCrcXBk_z"
      },
      "execution_count": 3,
      "outputs": []
    },
    {
      "cell_type": "markdown",
      "source": [
        "There is outliers in MedInc,AveRooms,AveBedrms ,Population ,AveOccup\n",
        "So transform them using Iqr method and capping\n",
        "\n"
      ],
      "metadata": {
        "id": "Mlb214feJwOa"
      }
    },
    {
      "cell_type": "code",
      "source": [],
      "metadata": {
        "id": "3v6I0xauQ16T"
      },
      "execution_count": 3,
      "outputs": []
    },
    {
      "cell_type": "code",
      "source": [
        "#dfine a function to transform outlier using IQR\n",
        "def cap_outliers_iqr(series):\n",
        "    \"\"\"Caps outliers in a pandas Series using IQR.\"\"\"\n",
        "    Q1 = series.quantile(0.25)\n",
        "    Q3 = series.quantile(0.75)\n",
        "    IQR = Q3 - Q1\n",
        "    lower_whisker = Q1 - 1.5 * IQR\n",
        "    upper_whisker = Q3 + 1.5 * IQR\n",
        "    return np.clip(series, lower_whisker, upper_whisker)\n",
        "\n",
        "# Columns to transform\n",
        "columns_to_transform = ['MedInc', 'AveRooms', 'AveBedrms', 'Population', 'AveOccup']\n",
        "\n",
        "# Apply the capping function to the specified columns\n",
        "x[columns_to_transform] = x[columns_to_transform].apply(cap_outliers_iqr)"
      ],
      "metadata": {
        "id": "TZINNIy6XCig"
      },
      "execution_count": 4,
      "outputs": []
    },
    {
      "cell_type": "code",
      "source": [
        "skew=x.skew()\n",
        "skew"
      ],
      "metadata": {
        "colab": {
          "base_uri": "https://localhost:8080/",
          "height": 335
        },
        "id": "53XZY4NOX3dD",
        "outputId": "3720a5e4-a6b3-48aa-c0fe-544d9d747fde"
      },
      "execution_count": 5,
      "outputs": [
        {
          "output_type": "execute_result",
          "data": {
            "text/plain": [
              "MedInc        0.735618\n",
              "HouseAge      0.060331\n",
              "AveRooms      0.348567\n",
              "AveBedrms     0.462645\n",
              "Population    0.842247\n",
              "AveOccup      0.510453\n",
              "Latitude      0.465953\n",
              "Longitude    -0.297801\n",
              "dtype: float64"
            ],
            "text/html": [
              "<div>\n",
              "<style scoped>\n",
              "    .dataframe tbody tr th:only-of-type {\n",
              "        vertical-align: middle;\n",
              "    }\n",
              "\n",
              "    .dataframe tbody tr th {\n",
              "        vertical-align: top;\n",
              "    }\n",
              "\n",
              "    .dataframe thead th {\n",
              "        text-align: right;\n",
              "    }\n",
              "</style>\n",
              "<table border=\"1\" class=\"dataframe\">\n",
              "  <thead>\n",
              "    <tr style=\"text-align: right;\">\n",
              "      <th></th>\n",
              "      <th>0</th>\n",
              "    </tr>\n",
              "  </thead>\n",
              "  <tbody>\n",
              "    <tr>\n",
              "      <th>MedInc</th>\n",
              "      <td>0.735618</td>\n",
              "    </tr>\n",
              "    <tr>\n",
              "      <th>HouseAge</th>\n",
              "      <td>0.060331</td>\n",
              "    </tr>\n",
              "    <tr>\n",
              "      <th>AveRooms</th>\n",
              "      <td>0.348567</td>\n",
              "    </tr>\n",
              "    <tr>\n",
              "      <th>AveBedrms</th>\n",
              "      <td>0.462645</td>\n",
              "    </tr>\n",
              "    <tr>\n",
              "      <th>Population</th>\n",
              "      <td>0.842247</td>\n",
              "    </tr>\n",
              "    <tr>\n",
              "      <th>AveOccup</th>\n",
              "      <td>0.510453</td>\n",
              "    </tr>\n",
              "    <tr>\n",
              "      <th>Latitude</th>\n",
              "      <td>0.465953</td>\n",
              "    </tr>\n",
              "    <tr>\n",
              "      <th>Longitude</th>\n",
              "      <td>-0.297801</td>\n",
              "    </tr>\n",
              "  </tbody>\n",
              "</table>\n",
              "</div><br><label><b>dtype:</b> float64</label>"
            ]
          },
          "metadata": {},
          "execution_count": 5
        }
      ]
    },
    {
      "cell_type": "markdown",
      "source": [
        "Transformed all outliers."
      ],
      "metadata": {
        "id": "LyqjE95eX848"
      }
    },
    {
      "cell_type": "code",
      "source": [
        "#feature scaling\n",
        "from sklearn.preprocessing import StandardScaler\n",
        "# Create scaler object\n",
        "scaler = StandardScaler()\n",
        "# Fit and transform features (x)\n",
        "x_scaled = scaler.fit_transform(x)\n",
        "x_scaled"
      ],
      "metadata": {
        "colab": {
          "base_uri": "https://localhost:8080/"
        },
        "id": "0lcUBTv8zOoD",
        "outputId": "cfd96d84-6e61-4eb6-f94c-1f1dfc1501f1"
      },
      "execution_count": 6,
      "outputs": [
        {
          "output_type": "execute_result",
          "data": {
            "text/plain": [
              "array([[ 2.54100555,  0.98214266,  1.34766453, ..., -0.49787057,\n",
              "         1.05254828, -1.32783522],\n",
              "       [ 2.54100555, -0.60701891,  0.74902704, ..., -1.14278053,\n",
              "         1.04318455, -1.32284391],\n",
              "       [ 2.08515552,  1.85618152,  2.39409751, ..., -0.14091034,\n",
              "         1.03850269, -1.33282653],\n",
              "       ...,\n",
              "       [-1.26748763, -0.92485123, -0.07960306, ..., -0.83054596,\n",
              "         1.77823747, -0.8237132 ],\n",
              "       [-1.16661997, -0.84539315,  0.01987977, ..., -1.12343912,\n",
              "         1.77823747, -0.87362627],\n",
              "       [-0.85207213, -1.00430931, -0.040142  , ..., -0.40899298,\n",
              "         1.75014627, -0.83369581]])"
            ]
          },
          "metadata": {},
          "execution_count": 6
        }
      ]
    },
    {
      "cell_type": "code",
      "source": [],
      "metadata": {
        "id": "Kl3ijX7K2iKC"
      },
      "execution_count": 6,
      "outputs": []
    },
    {
      "cell_type": "markdown",
      "source": [
        " **Explanation of Preprocessing Steps**\n",
        "1) Converted to DataFrame: Easier data handling.\n",
        "\n",
        "2) Checked for Missing Values: Ensures data quality.\n",
        "\n",
        "3) Outlier detection and caping:limits their extreme values to improve model accuracy and stability by reducing the influence of anomalous data.\n",
        "\n",
        "4) Feature Scaling: Standardization ensures that all features contribute equally to model training."
      ],
      "metadata": {
        "id": "J-Je-crZ2iuC"
      }
    },
    {
      "cell_type": "markdown",
      "source": [
        "**Regression Algorithm Implementation**"
      ],
      "metadata": {
        "id": "pqKvO5SKksJS"
      }
    },
    {
      "cell_type": "code",
      "source": [
        "#split the data training and testing\n",
        "from sklearn.model_selection import train_test_split\n",
        "x_train,x_test,y_train,y_test=train_test_split(x_scaled,y)"
      ],
      "metadata": {
        "id": "CANLhrD3lE9G"
      },
      "execution_count": 7,
      "outputs": []
    },
    {
      "cell_type": "markdown",
      "source": [
        "1)Linear Regression"
      ],
      "metadata": {
        "id": "uhwGTJVblGBh"
      }
    },
    {
      "cell_type": "code",
      "source": [
        "#import modules\n",
        "from sklearn.linear_model import LinearRegression\n",
        "model = LinearRegression()\n",
        "model.fit(x_train, y_train)\n",
        "#making predictions\n",
        "linear_pred = model.predict(x_test)\n",
        "linear_pred"
      ],
      "metadata": {
        "colab": {
          "base_uri": "https://localhost:8080/"
        },
        "id": "OjnQVBQsoV21",
        "outputId": "027fb578-f0fc-47e4-918b-43c2daa51cb4"
      },
      "execution_count": 8,
      "outputs": [
        {
          "output_type": "execute_result",
          "data": {
            "text/plain": [
              "array([0.37025891, 2.71088519, 2.65143191, ..., 1.38970092, 0.93367935,\n",
              "       1.38482399])"
            ]
          },
          "metadata": {},
          "execution_count": 8
        }
      ]
    },
    {
      "cell_type": "markdown",
      "source": [
        "Linear Regression is a statistical method used for predicting a continuous\n",
        "target variable based on one or more predictor variables. It assumes a linear relationship between the features and the target, meaning that a change in a feature will result in a proportional change in the target variable.\n",
        "\n",
        "Linear Regression might be suitable for the California Housing dataset for the following reasons:\n",
        "\n",
        "**Interpretability**: Linear Regression models are easy to interpret. The coefficients provide insights into the relationship between each feature and the target variable.\n",
        "\n",
        "**Simplicity:** Linear Regression is a relatively simple algorithm to implement and understand, making it a good starting point for regression tasks.\n",
        "\n",
        "**Potential Linear Relationships**: While the relationship between housing features and prices might not be perfectly linear, there could be some underlying linear trends that the model can capture."
      ],
      "metadata": {
        "id": "jfBaFcz1q9Vn"
      }
    },
    {
      "cell_type": "markdown",
      "source": [
        "2)Random Forest Regression:"
      ],
      "metadata": {
        "id": "0hvoDNTas3hJ"
      }
    },
    {
      "cell_type": "code",
      "source": [
        "from sklearn.ensemble import RandomForestRegressor\n",
        "model = RandomForestRegressor()\n",
        "model.fit(x_train, y_train)\n",
        "#making predictions\n",
        "rf_pred = model.predict(x_test)\n",
        "rf_pred"
      ],
      "metadata": {
        "colab": {
          "base_uri": "https://localhost:8080/"
        },
        "id": "7Bx78cKKspvv",
        "outputId": "f9b8b3d7-e955-44d7-b7bc-5e09a88cfc08"
      },
      "execution_count": 9,
      "outputs": [
        {
          "output_type": "execute_result",
          "data": {
            "text/plain": [
              "array([0.81145  , 2.3696201, 3.39753  , ..., 1.49172  , 1.30761  ,\n",
              "       1.0067499])"
            ]
          },
          "metadata": {},
          "execution_count": 9
        }
      ]
    },
    {
      "cell_type": "markdown",
      "source": [
        "**Explanation**: An ensemble of decision trees, where each tree is trained on a random subset of the data and features. The final prediction is an average of the predictions from all trees.\n",
        "\n",
        "Suitability for California Housing : Can handle non-linear relationships and interactions between features, making it suitable for the potentially complex housing market data."
      ],
      "metadata": {
        "id": "3hKHS6AwuHPC"
      }
    },
    {
      "cell_type": "markdown",
      "source": [
        "3) Decision Tree Regression :"
      ],
      "metadata": {
        "id": "xAaG8yvB2xkw"
      }
    },
    {
      "cell_type": "code",
      "source": [
        "from sklearn.tree import DecisionTreeRegressor\n",
        "model = DecisionTreeRegressor()\n",
        "model.fit(x_train, y_train)\n",
        "#making predictions\n",
        "dt_pred = model.predict(x_test)\n",
        "dt_pred"
      ],
      "metadata": {
        "colab": {
          "base_uri": "https://localhost:8080/"
        },
        "id": "RYazAj4DtcI0",
        "outputId": "e3b927dd-5256-423c-b64d-000cfe72a2d8"
      },
      "execution_count": 10,
      "outputs": [
        {
          "output_type": "execute_result",
          "data": {
            "text/plain": [
              "array([1.042, 1.775, 3.296, ..., 1.72 , 1.231, 1.292])"
            ]
          },
          "metadata": {},
          "execution_count": 10
        }
      ]
    },
    {
      "cell_type": "markdown",
      "source": [
        "Explanation: Builds a tree-like structure to make predictions based on feature thresholds. It recursively splits the data into subsets based on feature values to minimize prediction errors.\n",
        "\n",
        "Suitability for California Housing: Can handle non-linear relationships and interactions between features, making it suitable for the potentially complex housing market data.\n"
      ],
      "metadata": {
        "id": "JOaArOq33wSY"
      }
    },
    {
      "cell_type": "markdown",
      "source": [
        "4)Gradient Boosting Regressor\n",
        "\n"
      ],
      "metadata": {
        "id": "e5Ojog5J4L1o"
      }
    },
    {
      "cell_type": "code",
      "source": [
        "from sklearn.ensemble import GradientBoostingRegressor\n",
        "model = GradientBoostingRegressor()\n",
        "model.fit(x_train, y_train)\n",
        "#making predictions\n",
        "gb_pred = model.predict(x_test)\n",
        "gb_pred"
      ],
      "metadata": {
        "colab": {
          "base_uri": "https://localhost:8080/"
        },
        "id": "LS03siafPQVI",
        "outputId": "274d42f3-eb3c-4adf-90cc-3111a2b1ee29"
      },
      "execution_count": 11,
      "outputs": [
        {
          "output_type": "execute_result",
          "data": {
            "text/plain": [
              "array([0.96195248, 2.3146233 , 3.04811747, ..., 1.5335493 , 1.10260754,\n",
              "       1.28663209])"
            ]
          },
          "metadata": {},
          "execution_count": 11
        }
      ]
    },
    {
      "cell_type": "markdown",
      "source": [
        "**Explanation**: Combines weak learners (typically decision trees) sequentially, where each learner focuses on correcting the errors of the previous learners. This iterative process improves prediction accuracy.\n",
        "\n",
        "Suitability for California Housing: Known for high prediction accuracy and can handle various data types and relationships, making it a potentially strong candidate for this dataset\n"
      ],
      "metadata": {
        "id": "7NB8Sv7IRQLV"
      }
    },
    {
      "cell_type": "markdown",
      "source": [
        "5)Support Vector Regressor (SVR)"
      ],
      "metadata": {
        "id": "Xz42bFr5Rtoi"
      }
    },
    {
      "cell_type": "code",
      "source": [
        "from sklearn.svm import SVR\n",
        "model = SVR()\n",
        "model.fit(x_train, y_train)\n",
        "#making predictions\n",
        "svr_pred = model.predict(x_test)\n",
        "svr_pred"
      ],
      "metadata": {
        "colab": {
          "base_uri": "https://localhost:8080/"
        },
        "id": "QKqPKyUpR6DE",
        "outputId": "e92e36a8-159f-4499-9d94-d9b258739490"
      },
      "execution_count": 25,
      "outputs": [
        {
          "output_type": "execute_result",
          "data": {
            "text/plain": [
              "array([0.95276978, 2.89683293, 2.80281643, ..., 1.39528704, 1.27111635,\n",
              "       0.82740057])"
            ]
          },
          "metadata": {},
          "execution_count": 25
        }
      ]
    },
    {
      "cell_type": "markdown",
      "source": [
        "Explanation: Uses support vectors to define a hyperplane that best separates the data points and predicts the target variable. It can handle non-linear relationships using kernel functions.\n",
        "\n",
        "\n",
        "Suitability for California Housing: Effective for non-linear relationships and robust to outliers, which might be present in housing data."
      ],
      "metadata": {
        "id": "n7WSfU7LSnXS"
      }
    },
    {
      "cell_type": "markdown",
      "source": [
        "MODEL EVALUATION AND COMPARISON"
      ],
      "metadata": {
        "id": "o_gz3dSbTRah"
      }
    },
    {
      "cell_type": "markdown",
      "source": [
        "Evaluate the performance of each algorithm using the following metrics:\n",
        "Mean Squared Error (MSE)\n",
        "\n",
        "Mean Absolute Error (MAE)\n",
        "\n",
        "R-squared Score (R²)\n"
      ],
      "metadata": {
        "id": "EZIiXqADWyPi"
      }
    },
    {
      "cell_type": "code",
      "source": [
        "#Import necessary module\n",
        "from sklearn.metrics import mean_squared_error,mean_absolute_error,r2_score"
      ],
      "metadata": {
        "id": "dPw-xiikYeJX"
      },
      "execution_count": 13,
      "outputs": []
    },
    {
      "cell_type": "code",
      "source": [],
      "metadata": {
        "id": "MMi7IvdnaFeC"
      },
      "execution_count": 13,
      "outputs": []
    },
    {
      "cell_type": "markdown",
      "source": [
        "1)Linear regression model\n"
      ],
      "metadata": {
        "id": "3YxwSWKRcN38"
      }
    },
    {
      "cell_type": "code",
      "source": [
        "#mean squared error metric\n",
        "mse_linear = mean_squared_error(y_test, linear_pred)\n",
        "#mean absolute error metric\n",
        "mae_linear = mean_absolute_error(y_test, linear_pred)  # Calculate MAE\n",
        "#r2 score\n",
        "r2_linear = r2_score(y_test, linear_pred)"
      ],
      "metadata": {
        "id": "rhrdLQVBcag3"
      },
      "execution_count": 14,
      "outputs": []
    },
    {
      "cell_type": "code",
      "source": [
        "#PRINT THE RESULT\n",
        "print(\"Linear Regression Evaluation : \")\n",
        "print(\"Mean_squared Error : \",mse_linear)\n",
        "print(\"Mean_Absolute Error\",mae_linear)\n",
        "print(\"R2 Score \",r2_linear)"
      ],
      "metadata": {
        "colab": {
          "base_uri": "https://localhost:8080/"
        },
        "id": "Is4M_SmLcaPm",
        "outputId": "876241c8-c8fc-4af4-90c7-f40c60ba1ae7"
      },
      "execution_count": 15,
      "outputs": [
        {
          "output_type": "stream",
          "name": "stdout",
          "text": [
            "Linear Regression Evaluation : \n",
            "Mean_squared Error :  0.45370539797782\n",
            "Mean_Absolute Error 0.5021936620375631\n",
            "R2 Score  0.658285047961088\n"
          ]
        }
      ]
    },
    {
      "cell_type": "markdown",
      "source": [
        "2)Random Forest Regression:"
      ],
      "metadata": {
        "id": "pDFBsD2JjGKw"
      }
    },
    {
      "cell_type": "code",
      "source": [
        "#mean squared error metric\n",
        "mse_rf = mean_squared_error(y_test, rf_pred)\n",
        "#mean absolute error metric\n",
        "mae_rf= mean_absolute_error(y_test, rf_pred)\n",
        "#r2 score\n",
        "r2_rf = r2_score(y_test, rf_pred)"
      ],
      "metadata": {
        "id": "UJEg1qsDjQBA"
      },
      "execution_count": 16,
      "outputs": []
    },
    {
      "cell_type": "code",
      "source": [
        "#PRINT THE RESULT\n",
        "print(\"Random Forest Regression Evaluation : \")\n",
        "print(\"Mean_squared Error : \",mse_rf)\n",
        "print(\"Mean_Absolute Error\" ,mae_rf)\n",
        "print(\"R2 Score \",r2_rf)"
      ],
      "metadata": {
        "colab": {
          "base_uri": "https://localhost:8080/"
        },
        "id": "Erdrq0AOjmGp",
        "outputId": "c48246d0-b3e9-4878-bbae-196c322a658c"
      },
      "execution_count": 17,
      "outputs": [
        {
          "output_type": "stream",
          "name": "stdout",
          "text": [
            "Random Forest Regression Evaluation : \n",
            "Mean_squared Error :  0.2625646880817721\n",
            "Mean_Absolute Error 0.3334248555426359\n",
            "R2 Score  0.8022455095423819\n"
          ]
        }
      ]
    },
    {
      "cell_type": "markdown",
      "source": [
        "3) Decision Tree Regression :"
      ],
      "metadata": {
        "id": "s6mhxkFhklQ1"
      }
    },
    {
      "cell_type": "code",
      "source": [
        "#mean squared error metric\n",
        "mse_dt = mean_squared_error(y_test, dt_pred)\n",
        "#mean absolute error metric\n",
        "mae_dt= mean_absolute_error(y_test, dt_pred)\n",
        "#r2 score\n",
        "r2_dt = r2_score(y_test, dt_pred)"
      ],
      "metadata": {
        "id": "8NhFKaI7kkX0"
      },
      "execution_count": 20,
      "outputs": []
    },
    {
      "cell_type": "code",
      "source": [
        "#PRINT THE RESULT\n",
        "print(\"Decision Tree Regression Evaluation : \")\n",
        "print(\"Mean_squared Error : \",mse_dt)\n",
        "print(\"Mean_Absolute Error\" ,mae_dt)\n",
        "print(\"R2 Score \",r2_dt)"
      ],
      "metadata": {
        "colab": {
          "base_uri": "https://localhost:8080/"
        },
        "id": "ww3--gbjkvhi",
        "outputId": "046f9dbe-30a1-47fb-8471-9be64db2cfb5"
      },
      "execution_count": 21,
      "outputs": [
        {
          "output_type": "stream",
          "name": "stdout",
          "text": [
            "Decision Tree Regression Evaluation : \n",
            "Mean_squared Error :  0.5204221506011241\n",
            "Mean_Absolute Error 0.4615872441860465\n",
            "R2 Score  0.6080363358574272\n"
          ]
        }
      ]
    },
    {
      "cell_type": "markdown",
      "source": [
        "4)Gradient Boosting Regressor"
      ],
      "metadata": {
        "id": "RoDzfGi3lYu8"
      }
    },
    {
      "cell_type": "code",
      "source": [
        "#mean squared error metric\n",
        "mse_gb = mean_squared_error(y_test, gb_pred)\n",
        "#mean absolute error metric\n",
        "mae_gb= mean_absolute_error(y_test, gb_pred)\n",
        "#r2 score\n",
        "r2_gb = r2_score(y_test, gb_pred)"
      ],
      "metadata": {
        "id": "hbMzTK9Qlh_I"
      },
      "execution_count": 23,
      "outputs": []
    },
    {
      "cell_type": "code",
      "source": [
        "#PRINT THE RESULT\n",
        "print(\"Decision Tree Regression Evaluation : \")\n",
        "print(\"Mean_squared Error : \",mse_gb)\n",
        "print(\"Mean_Absolute Error\" ,mae_gb)\n",
        "print(\"R2 Score \",r2_gb)"
      ],
      "metadata": {
        "colab": {
          "base_uri": "https://localhost:8080/"
        },
        "id": "lypegGpolvoy",
        "outputId": "fae64d8c-d3c8-4698-8801-f9586048f427"
      },
      "execution_count": 24,
      "outputs": [
        {
          "output_type": "stream",
          "name": "stdout",
          "text": [
            "Decision Tree Regression Evaluation : \n",
            "Mean_squared Error :  0.29207407577659245\n",
            "Mean_Absolute Error 0.3735577211434748\n",
            "R2 Score  0.7800200763741254\n"
          ]
        }
      ]
    },
    {
      "cell_type": "markdown",
      "source": [
        "5)Support Vector Regressor (SVR)"
      ],
      "metadata": {
        "id": "BJx7goFCmGys"
      }
    },
    {
      "cell_type": "code",
      "source": [
        "#mean squared error metric\n",
        "mse_svr = mean_squared_error(y_test, svr_pred)\n",
        "#mean absolute error metric\n",
        "mae_svr= mean_absolute_error(y_test, svr_pred)\n",
        "#r2 score\n",
        "r2_svr= r2_score(y_test, svr_pred)"
      ],
      "metadata": {
        "id": "s_YiUMiPmHeZ"
      },
      "execution_count": 26,
      "outputs": []
    },
    {
      "cell_type": "code",
      "source": [
        "#PRINT THE RESULT\n",
        "print(\"Support Vector Regression Evaluation : \")\n",
        "print(\"Mean_squared Error : \",mse_svr)\n",
        "print(\"Mean_Absolute Error\" ,mae_svr)\n",
        "print(\"R2 Score \",r2_svr)"
      ],
      "metadata": {
        "colab": {
          "base_uri": "https://localhost:8080/"
        },
        "id": "Q-tMgT5cmIId",
        "outputId": "5637afb9-7a03-4d2a-d39f-5bbdb0b7bca6"
      },
      "execution_count": 27,
      "outputs": [
        {
          "output_type": "stream",
          "name": "stdout",
          "text": [
            "Support Vector Regression Evaluation : \n",
            "Mean_squared Error :  0.3153890782571265\n",
            "Mean_Absolute Error 0.3733279205148143\n",
            "R2 Score  0.7624600363350773\n"
          ]
        }
      ]
    },
    {
      "cell_type": "markdown",
      "source": [
        "**Comparing all 5 models :**"
      ],
      "metadata": {
        "id": "IB1n5KuAs-E8"
      }
    },
    {
      "cell_type": "code",
      "source": [
        "model_comparison = pd.DataFrame({\n",
        "    'Model': ['Linear Regression', 'Random Forest', 'Decision Tree', 'Gradient Boosting', 'SVR'],\n",
        "    'MSE': [mse_linear, mse_rf, mse_dt, mse_gb, mse_svr],\n",
        "    'MAE': [mae_linear, mae_rf, mae_dt, mae_gb, mae_svr],\n",
        "    'R-squared': [r2_linear, r2_rf, r2_dt, r2_gb, r2_svr]\n",
        "})\n",
        "\n",
        "model_comparison"
      ],
      "metadata": {
        "colab": {
          "base_uri": "https://localhost:8080/",
          "height": 206
        },
        "id": "hLYrVTaQtO0d",
        "outputId": "0f8bac18-0132-4d5f-dd9f-3755e1242460"
      },
      "execution_count": 29,
      "outputs": [
        {
          "output_type": "execute_result",
          "data": {
            "text/plain": [
              "               Model       MSE       MAE  R-squared\n",
              "0  Linear Regression  0.453705  0.502194   0.658285\n",
              "1      Random Forest  0.262565  0.333425   0.802246\n",
              "2      Decision Tree  0.520422  0.461587   0.780020\n",
              "3  Gradient Boosting  0.292074  0.373558   0.780020\n",
              "4                SVR  0.315389  0.373328   0.762460"
            ],
            "text/html": [
              "\n",
              "  <div id=\"df-2826bb2a-4dc3-4ade-b5e1-325c7c1bb4c1\" class=\"colab-df-container\">\n",
              "    <div>\n",
              "<style scoped>\n",
              "    .dataframe tbody tr th:only-of-type {\n",
              "        vertical-align: middle;\n",
              "    }\n",
              "\n",
              "    .dataframe tbody tr th {\n",
              "        vertical-align: top;\n",
              "    }\n",
              "\n",
              "    .dataframe thead th {\n",
              "        text-align: right;\n",
              "    }\n",
              "</style>\n",
              "<table border=\"1\" class=\"dataframe\">\n",
              "  <thead>\n",
              "    <tr style=\"text-align: right;\">\n",
              "      <th></th>\n",
              "      <th>Model</th>\n",
              "      <th>MSE</th>\n",
              "      <th>MAE</th>\n",
              "      <th>R-squared</th>\n",
              "    </tr>\n",
              "  </thead>\n",
              "  <tbody>\n",
              "    <tr>\n",
              "      <th>0</th>\n",
              "      <td>Linear Regression</td>\n",
              "      <td>0.453705</td>\n",
              "      <td>0.502194</td>\n",
              "      <td>0.658285</td>\n",
              "    </tr>\n",
              "    <tr>\n",
              "      <th>1</th>\n",
              "      <td>Random Forest</td>\n",
              "      <td>0.262565</td>\n",
              "      <td>0.333425</td>\n",
              "      <td>0.802246</td>\n",
              "    </tr>\n",
              "    <tr>\n",
              "      <th>2</th>\n",
              "      <td>Decision Tree</td>\n",
              "      <td>0.520422</td>\n",
              "      <td>0.461587</td>\n",
              "      <td>0.780020</td>\n",
              "    </tr>\n",
              "    <tr>\n",
              "      <th>3</th>\n",
              "      <td>Gradient Boosting</td>\n",
              "      <td>0.292074</td>\n",
              "      <td>0.373558</td>\n",
              "      <td>0.780020</td>\n",
              "    </tr>\n",
              "    <tr>\n",
              "      <th>4</th>\n",
              "      <td>SVR</td>\n",
              "      <td>0.315389</td>\n",
              "      <td>0.373328</td>\n",
              "      <td>0.762460</td>\n",
              "    </tr>\n",
              "  </tbody>\n",
              "</table>\n",
              "</div>\n",
              "    <div class=\"colab-df-buttons\">\n",
              "\n",
              "  <div class=\"colab-df-container\">\n",
              "    <button class=\"colab-df-convert\" onclick=\"convertToInteractive('df-2826bb2a-4dc3-4ade-b5e1-325c7c1bb4c1')\"\n",
              "            title=\"Convert this dataframe to an interactive table.\"\n",
              "            style=\"display:none;\">\n",
              "\n",
              "  <svg xmlns=\"http://www.w3.org/2000/svg\" height=\"24px\" viewBox=\"0 -960 960 960\">\n",
              "    <path d=\"M120-120v-720h720v720H120Zm60-500h600v-160H180v160Zm220 220h160v-160H400v160Zm0 220h160v-160H400v160ZM180-400h160v-160H180v160Zm440 0h160v-160H620v160ZM180-180h160v-160H180v160Zm440 0h160v-160H620v160Z\"/>\n",
              "  </svg>\n",
              "    </button>\n",
              "\n",
              "  <style>\n",
              "    .colab-df-container {\n",
              "      display:flex;\n",
              "      gap: 12px;\n",
              "    }\n",
              "\n",
              "    .colab-df-convert {\n",
              "      background-color: #E8F0FE;\n",
              "      border: none;\n",
              "      border-radius: 50%;\n",
              "      cursor: pointer;\n",
              "      display: none;\n",
              "      fill: #1967D2;\n",
              "      height: 32px;\n",
              "      padding: 0 0 0 0;\n",
              "      width: 32px;\n",
              "    }\n",
              "\n",
              "    .colab-df-convert:hover {\n",
              "      background-color: #E2EBFA;\n",
              "      box-shadow: 0px 1px 2px rgba(60, 64, 67, 0.3), 0px 1px 3px 1px rgba(60, 64, 67, 0.15);\n",
              "      fill: #174EA6;\n",
              "    }\n",
              "\n",
              "    .colab-df-buttons div {\n",
              "      margin-bottom: 4px;\n",
              "    }\n",
              "\n",
              "    [theme=dark] .colab-df-convert {\n",
              "      background-color: #3B4455;\n",
              "      fill: #D2E3FC;\n",
              "    }\n",
              "\n",
              "    [theme=dark] .colab-df-convert:hover {\n",
              "      background-color: #434B5C;\n",
              "      box-shadow: 0px 1px 3px 1px rgba(0, 0, 0, 0.15);\n",
              "      filter: drop-shadow(0px 1px 2px rgba(0, 0, 0, 0.3));\n",
              "      fill: #FFFFFF;\n",
              "    }\n",
              "  </style>\n",
              "\n",
              "    <script>\n",
              "      const buttonEl =\n",
              "        document.querySelector('#df-2826bb2a-4dc3-4ade-b5e1-325c7c1bb4c1 button.colab-df-convert');\n",
              "      buttonEl.style.display =\n",
              "        google.colab.kernel.accessAllowed ? 'block' : 'none';\n",
              "\n",
              "      async function convertToInteractive(key) {\n",
              "        const element = document.querySelector('#df-2826bb2a-4dc3-4ade-b5e1-325c7c1bb4c1');\n",
              "        const dataTable =\n",
              "          await google.colab.kernel.invokeFunction('convertToInteractive',\n",
              "                                                    [key], {});\n",
              "        if (!dataTable) return;\n",
              "\n",
              "        const docLinkHtml = 'Like what you see? Visit the ' +\n",
              "          '<a target=\"_blank\" href=https://colab.research.google.com/notebooks/data_table.ipynb>data table notebook</a>'\n",
              "          + ' to learn more about interactive tables.';\n",
              "        element.innerHTML = '';\n",
              "        dataTable['output_type'] = 'display_data';\n",
              "        await google.colab.output.renderOutput(dataTable, element);\n",
              "        const docLink = document.createElement('div');\n",
              "        docLink.innerHTML = docLinkHtml;\n",
              "        element.appendChild(docLink);\n",
              "      }\n",
              "    </script>\n",
              "  </div>\n",
              "\n",
              "\n",
              "<div id=\"df-a2187159-bdaa-4c93-9cbe-241ae9cee55a\">\n",
              "  <button class=\"colab-df-quickchart\" onclick=\"quickchart('df-a2187159-bdaa-4c93-9cbe-241ae9cee55a')\"\n",
              "            title=\"Suggest charts\"\n",
              "            style=\"display:none;\">\n",
              "\n",
              "<svg xmlns=\"http://www.w3.org/2000/svg\" height=\"24px\"viewBox=\"0 0 24 24\"\n",
              "     width=\"24px\">\n",
              "    <g>\n",
              "        <path d=\"M19 3H5c-1.1 0-2 .9-2 2v14c0 1.1.9 2 2 2h14c1.1 0 2-.9 2-2V5c0-1.1-.9-2-2-2zM9 17H7v-7h2v7zm4 0h-2V7h2v10zm4 0h-2v-4h2v4z\"/>\n",
              "    </g>\n",
              "</svg>\n",
              "  </button>\n",
              "\n",
              "<style>\n",
              "  .colab-df-quickchart {\n",
              "      --bg-color: #E8F0FE;\n",
              "      --fill-color: #1967D2;\n",
              "      --hover-bg-color: #E2EBFA;\n",
              "      --hover-fill-color: #174EA6;\n",
              "      --disabled-fill-color: #AAA;\n",
              "      --disabled-bg-color: #DDD;\n",
              "  }\n",
              "\n",
              "  [theme=dark] .colab-df-quickchart {\n",
              "      --bg-color: #3B4455;\n",
              "      --fill-color: #D2E3FC;\n",
              "      --hover-bg-color: #434B5C;\n",
              "      --hover-fill-color: #FFFFFF;\n",
              "      --disabled-bg-color: #3B4455;\n",
              "      --disabled-fill-color: #666;\n",
              "  }\n",
              "\n",
              "  .colab-df-quickchart {\n",
              "    background-color: var(--bg-color);\n",
              "    border: none;\n",
              "    border-radius: 50%;\n",
              "    cursor: pointer;\n",
              "    display: none;\n",
              "    fill: var(--fill-color);\n",
              "    height: 32px;\n",
              "    padding: 0;\n",
              "    width: 32px;\n",
              "  }\n",
              "\n",
              "  .colab-df-quickchart:hover {\n",
              "    background-color: var(--hover-bg-color);\n",
              "    box-shadow: 0 1px 2px rgba(60, 64, 67, 0.3), 0 1px 3px 1px rgba(60, 64, 67, 0.15);\n",
              "    fill: var(--button-hover-fill-color);\n",
              "  }\n",
              "\n",
              "  .colab-df-quickchart-complete:disabled,\n",
              "  .colab-df-quickchart-complete:disabled:hover {\n",
              "    background-color: var(--disabled-bg-color);\n",
              "    fill: var(--disabled-fill-color);\n",
              "    box-shadow: none;\n",
              "  }\n",
              "\n",
              "  .colab-df-spinner {\n",
              "    border: 2px solid var(--fill-color);\n",
              "    border-color: transparent;\n",
              "    border-bottom-color: var(--fill-color);\n",
              "    animation:\n",
              "      spin 1s steps(1) infinite;\n",
              "  }\n",
              "\n",
              "  @keyframes spin {\n",
              "    0% {\n",
              "      border-color: transparent;\n",
              "      border-bottom-color: var(--fill-color);\n",
              "      border-left-color: var(--fill-color);\n",
              "    }\n",
              "    20% {\n",
              "      border-color: transparent;\n",
              "      border-left-color: var(--fill-color);\n",
              "      border-top-color: var(--fill-color);\n",
              "    }\n",
              "    30% {\n",
              "      border-color: transparent;\n",
              "      border-left-color: var(--fill-color);\n",
              "      border-top-color: var(--fill-color);\n",
              "      border-right-color: var(--fill-color);\n",
              "    }\n",
              "    40% {\n",
              "      border-color: transparent;\n",
              "      border-right-color: var(--fill-color);\n",
              "      border-top-color: var(--fill-color);\n",
              "    }\n",
              "    60% {\n",
              "      border-color: transparent;\n",
              "      border-right-color: var(--fill-color);\n",
              "    }\n",
              "    80% {\n",
              "      border-color: transparent;\n",
              "      border-right-color: var(--fill-color);\n",
              "      border-bottom-color: var(--fill-color);\n",
              "    }\n",
              "    90% {\n",
              "      border-color: transparent;\n",
              "      border-bottom-color: var(--fill-color);\n",
              "    }\n",
              "  }\n",
              "</style>\n",
              "\n",
              "  <script>\n",
              "    async function quickchart(key) {\n",
              "      const quickchartButtonEl =\n",
              "        document.querySelector('#' + key + ' button');\n",
              "      quickchartButtonEl.disabled = true;  // To prevent multiple clicks.\n",
              "      quickchartButtonEl.classList.add('colab-df-spinner');\n",
              "      try {\n",
              "        const charts = await google.colab.kernel.invokeFunction(\n",
              "            'suggestCharts', [key], {});\n",
              "      } catch (error) {\n",
              "        console.error('Error during call to suggestCharts:', error);\n",
              "      }\n",
              "      quickchartButtonEl.classList.remove('colab-df-spinner');\n",
              "      quickchartButtonEl.classList.add('colab-df-quickchart-complete');\n",
              "    }\n",
              "    (() => {\n",
              "      let quickchartButtonEl =\n",
              "        document.querySelector('#df-a2187159-bdaa-4c93-9cbe-241ae9cee55a button');\n",
              "      quickchartButtonEl.style.display =\n",
              "        google.colab.kernel.accessAllowed ? 'block' : 'none';\n",
              "    })();\n",
              "  </script>\n",
              "</div>\n",
              "\n",
              "  <div id=\"id_068faa94-cf22-4130-8de6-a9e3d55e6f25\">\n",
              "    <style>\n",
              "      .colab-df-generate {\n",
              "        background-color: #E8F0FE;\n",
              "        border: none;\n",
              "        border-radius: 50%;\n",
              "        cursor: pointer;\n",
              "        display: none;\n",
              "        fill: #1967D2;\n",
              "        height: 32px;\n",
              "        padding: 0 0 0 0;\n",
              "        width: 32px;\n",
              "      }\n",
              "\n",
              "      .colab-df-generate:hover {\n",
              "        background-color: #E2EBFA;\n",
              "        box-shadow: 0px 1px 2px rgba(60, 64, 67, 0.3), 0px 1px 3px 1px rgba(60, 64, 67, 0.15);\n",
              "        fill: #174EA6;\n",
              "      }\n",
              "\n",
              "      [theme=dark] .colab-df-generate {\n",
              "        background-color: #3B4455;\n",
              "        fill: #D2E3FC;\n",
              "      }\n",
              "\n",
              "      [theme=dark] .colab-df-generate:hover {\n",
              "        background-color: #434B5C;\n",
              "        box-shadow: 0px 1px 3px 1px rgba(0, 0, 0, 0.15);\n",
              "        filter: drop-shadow(0px 1px 2px rgba(0, 0, 0, 0.3));\n",
              "        fill: #FFFFFF;\n",
              "      }\n",
              "    </style>\n",
              "    <button class=\"colab-df-generate\" onclick=\"generateWithVariable('model_comparison')\"\n",
              "            title=\"Generate code using this dataframe.\"\n",
              "            style=\"display:none;\">\n",
              "\n",
              "  <svg xmlns=\"http://www.w3.org/2000/svg\" height=\"24px\"viewBox=\"0 0 24 24\"\n",
              "       width=\"24px\">\n",
              "    <path d=\"M7,19H8.4L18.45,9,17,7.55,7,17.6ZM5,21V16.75L18.45,3.32a2,2,0,0,1,2.83,0l1.4,1.43a1.91,1.91,0,0,1,.58,1.4,1.91,1.91,0,0,1-.58,1.4L9.25,21ZM18.45,9,17,7.55Zm-12,3A5.31,5.31,0,0,0,4.9,8.1,5.31,5.31,0,0,0,1,6.5,5.31,5.31,0,0,0,4.9,4.9,5.31,5.31,0,0,0,6.5,1,5.31,5.31,0,0,0,8.1,4.9,5.31,5.31,0,0,0,12,6.5,5.46,5.46,0,0,0,6.5,12Z\"/>\n",
              "  </svg>\n",
              "    </button>\n",
              "    <script>\n",
              "      (() => {\n",
              "      const buttonEl =\n",
              "        document.querySelector('#id_068faa94-cf22-4130-8de6-a9e3d55e6f25 button.colab-df-generate');\n",
              "      buttonEl.style.display =\n",
              "        google.colab.kernel.accessAllowed ? 'block' : 'none';\n",
              "\n",
              "      buttonEl.onclick = () => {\n",
              "        google.colab.notebook.generateWithVariable('model_comparison');\n",
              "      }\n",
              "      })();\n",
              "    </script>\n",
              "  </div>\n",
              "\n",
              "    </div>\n",
              "  </div>\n"
            ],
            "application/vnd.google.colaboratory.intrinsic+json": {
              "type": "dataframe",
              "variable_name": "model_comparison",
              "summary": "{\n  \"name\": \"model_comparison\",\n  \"rows\": 5,\n  \"fields\": [\n    {\n      \"column\": \"Model\",\n      \"properties\": {\n        \"dtype\": \"string\",\n        \"num_unique_values\": 5,\n        \"samples\": [\n          \"Random Forest\",\n          \"SVR\",\n          \"Decision Tree\"\n        ],\n        \"semantic_type\": \"\",\n        \"description\": \"\"\n      }\n    },\n    {\n      \"column\": \"MSE\",\n      \"properties\": {\n        \"dtype\": \"number\",\n        \"std\": 0.11205326170749223,\n        \"min\": 0.2625646880817721,\n        \"max\": 0.5204221506011241,\n        \"num_unique_values\": 5,\n        \"samples\": [\n          0.2625646880817721,\n          0.3153890782571265,\n          0.5204221506011241\n        ],\n        \"semantic_type\": \"\",\n        \"description\": \"\"\n      }\n    },\n    {\n      \"column\": \"MAE\",\n      \"properties\": {\n        \"dtype\": \"number\",\n        \"std\": 0.07016153973260489,\n        \"min\": 0.3334248555426359,\n        \"max\": 0.5021936620375631,\n        \"num_unique_values\": 5,\n        \"samples\": [\n          0.3334248555426359,\n          0.3733279205148143,\n          0.4615872441860465\n        ],\n        \"semantic_type\": \"\",\n        \"description\": \"\"\n      }\n    },\n    {\n      \"column\": \"R-squared\",\n      \"properties\": {\n        \"dtype\": \"number\",\n        \"std\": 0.05674654643085095,\n        \"min\": 0.658285047961088,\n        \"max\": 0.8022455095423819,\n        \"num_unique_values\": 4,\n        \"samples\": [\n          0.8022455095423819,\n          0.7624600363350773,\n          0.658285047961088\n        ],\n        \"semantic_type\": \"\",\n        \"description\": \"\"\n      }\n    }\n  ]\n}"
            }
          },
          "metadata": {},
          "execution_count": 29
        }
      ]
    },
    {
      "cell_type": "markdown",
      "source": [
        "Best Performing Algorithm\n",
        "\n",
        "Based on R-squared: The model with the highest R-squared value is generally the best. R-squared represents the proportion of variance in the target variable that is explained by the model. A higher R-squared indicates a better fit.\n",
        "\n",
        "Based on MSE and MAE: The model with the lowest MSE and MAE values is preferred. These metrics measure the average error between the predicted and actual values. Lower values indicate better accuracy."
      ],
      "metadata": {
        "id": "xSU4E6l1uBS4"
      }
    },
    {
      "cell_type": "markdown",
      "source": [
        "In this project,**Random Forest Regression** has high **highest R-squared value** and **lowest MSE and MAE values ** .Therefore,Random Forest is the best performing algorithm.\n",
        "\n",
        "At the same time,**Linear Regression** has **lowest R-squared value** and **highest MSE** and **MAE** values.Therefore,Linear reression is the worst performing algorithm."
      ],
      "metadata": {
        "id": "LBoFjHh4uZfC"
      }
    }
  ]
}